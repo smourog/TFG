{
 "cells": [
  {
   "cell_type": "code",
   "execution_count": 47,
   "metadata": {},
   "outputs": [],
   "source": [
    "import pandas as pd  # data processing, CSV file I/O (e.g. pd.read_csv)\n",
    "import seaborn as sns\n",
    "import numpy as np\n",
    "import matplotlib.pyplot as plt\n",
    "import statistics\n",
    "\n",
    "from IPython.core.interactiveshell import InteractiveShell\n",
    "\n",
    "from IPython.display import display\n",
    "from sklearn.inspection import DecisionBoundaryDisplay\n",
    "from sklearn.feature_selection import VarianceThreshold, SelectKBest, chi2\n",
    "from sklearn.preprocessing import StandardScaler\n",
    "from sklearn.model_selection import train_test_split\n",
    "from sklearn.linear_model import LogisticRegression\n",
    "from sklearn.neighbors import KNeighborsClassifier\n",
    "from sklearn.svm import SVC\n",
    "from sklearn.tree import DecisionTreeClassifier\n",
    "from sklearn.ensemble import RandomForestClassifier\n",
    "from sklearn.naive_bayes import GaussianNB\n",
    "from sklearn.neural_network import MLPClassifier\n",
    "from sklearn.inspection import DecisionBoundaryDisplay\n",
    "from sklearn.metrics import classification_report, confusion_matrix, accuracy_score, precision_score, recall_score, auc, roc_curve, f1_score\n",
    "from sklearn.decomposition import PCA\n",
    "from sklearn import model_selection\n",
    "from imblearn.over_sampling import SMOTE\n",
    "from imblearn.under_sampling import NearMiss\n",
    "\n",
    "InteractiveShell.ast_node_interactivity = \"all\"\n",
    "\n",
    "models = []\n",
    "models.append(('LR', LogisticRegression(max_iter=1000)))\n",
    "models.append(('KNN9', KNeighborsClassifier(n_neighbors=9)))\n",
    "models.append(('KNN7', KNeighborsClassifier(n_neighbors=7)))\n",
    "models.append(('KNN5', KNeighborsClassifier()))\n",
    "models.append(('KNN3', KNeighborsClassifier(n_neighbors=3)))\n",
    "models.append(('KNN1', KNeighborsClassifier(n_neighbors=1)))\n",
    "models.append(('RF', RandomForestClassifier()))\n",
    "models.append(('CART', DecisionTreeClassifier()))\n",
    "models.append(('NB', GaussianNB()))\n",
    "models.append(('SVM', SVC()))\n",
    "models.append(('MLP', MLPClassifier()))\n",
    "\n",
    "names = []\n",
    "trained_models = []\n",
    "\n",
    "def getColumnsZeroStd():\n",
    "    benign = pd.read_csv(\"./dataset_benign.csv\")\n",
    "    malware = pd.read_csv(\"./dataset_malware.csv\")\n",
    "\n",
    "    drop = ['Name', 'Malware']\n",
    "    \n",
    "    b = benign.drop(['Name', 'Malware'], axis=1)\n",
    "    m = malware.drop(['Name', 'Malware'], axis=1)\n",
    "    for feature in b.columns:\n",
    "        # print(feature)\n",
    "        if b[feature].std() == 0:\n",
    "            drop.append(feature)\n",
    "    for feature in m.columns:\n",
    "        # print(feature)\n",
    "        if m[feature].std() == 0:\n",
    "            if feature not in drop:\n",
    "                drop.append(feature)\n",
    "\n",
    "    print(drop)\n",
    "    print(len(drop))\n",
    "\n",
    "    return drop\n",
    "\n",
    "def buildDataset(resample=\"\", drop=['Name', 'Malware']):\n",
    "    benign = pd.read_csv(\"./dataset_benign.csv\")\n",
    "    malware = pd.read_csv(\"./dataset_malware.csv\")\n",
    "\n",
    "    data = pd.concat([benign, malware], ignore_index=True)\n",
    "\n",
    "    X = data.drop(drop, axis=1)\n",
    "    y = data['Malware']\n",
    "\n",
    "    names = X.columns\n",
    "    # print(names)\n",
    "\n",
    "    if (resample == \"-o\"):\n",
    "        print(\"Aplicando oversampling...\")\n",
    "        smote = SMOTE(random_state=42)\n",
    "        X, y = smote.fit_resample(X, y)\n",
    "    elif (resample == \"-u\"):\n",
    "        print(\"\\n\\n\\nAplicando undersampling...\")\n",
    "        nearmiss = NearMiss(version=1)\n",
    "        X, y = nearmiss.fit_resample(X, y)\n",
    "\n",
    "    print(\"Número de muestras totales:\", len(X), \"\\n\\n\\n\")\n",
    "    return X, y\n",
    "\n",
    "\n",
    "def trainTest(X, y):\n",
    "    X_train, X_test, y_train, y_test = train_test_split(\n",
    "        X, y, test_size=0.2, random_state=101)\n",
    "\n",
    "    sc = StandardScaler().fit(X_train)\n",
    "\n",
    "    X_train = sc.transform(X_train)\n",
    "    X_test = sc.transform(X_test)\n",
    "\n",
    "    print(f'Número de características usadas: {X_train.shape[1]} \\n\\n\\n')\n",
    "\n",
    "    return X_train, X_test, y_train, y_test\n",
    "\n",
    "\n",
    "def crossValidationScore(X_train, y_train):\n",
    "    # evaluate each model in turn\n",
    "    results = []\n",
    "    names = []\n",
    "    scoring = 'accuracy'\n",
    "    print(\"COMPARACIÓNN DE ALGORITMOS MEDIANTE CROSS-VALIDATION\")\n",
    "    for name, model in models:\n",
    "        kfold = model_selection.KFold(n_splits=10)\n",
    "        trained_model = model.fit(X_train, y_train)\n",
    "        cv_results = model_selection.cross_val_score(\n",
    "            trained_model, X_train, y_train, cv=kfold, scoring=scoring)\n",
    "        results.append(cv_results)\n",
    "        names.append(name)\n",
    "        msg = \"%s: %f (%f)\" % (name, cv_results.mean(), cv_results.std())\n",
    "        print(msg)\n",
    "        trained_models.append((name, trained_model))\n",
    "\n",
    "    print(\"\\n\\n\\n\")\n",
    "\n",
    "\n",
    "def compareMLAs(X_train, X_test, y_train, y_test):\n",
    "    MLA_columns = []\n",
    "    MLA_compare = pd.DataFrame(columns=MLA_columns)\n",
    "\n",
    "    row_index = 0\n",
    "    for name, model in trained_models:\n",
    "\n",
    "        predicted = model.predict(X_test)\n",
    "\n",
    "        fp, tp, th = roc_curve(y_test, predicted)\n",
    "        MLA_name = name\n",
    "        MLA_compare.loc[row_index, 'MLA used'] = MLA_name\n",
    "        MLA_compare.loc[row_index, 'Train Accuracy'] = round(\n",
    "            model.score(X_train, y_train), 4)\n",
    "        MLA_compare.loc[row_index, 'Test Accuracy'] = round(\n",
    "            model.score(X_test, y_test), 4)\n",
    "        MLA_compare.loc[row_index, 'Precision'] = precision_score(\n",
    "            y_test, predicted)\n",
    "        MLA_compare.loc[row_index, 'Recall'] = recall_score(y_test, predicted)\n",
    "        MLA_compare.loc[row_index, 'F1-Score'] = f1_score(\n",
    "            y_test, predicted)\n",
    "        # MLA_compare.loc[row_index, 'AUC'] = auc(fp, tp)\n",
    "\n",
    "        row_index += 1\n",
    "\n",
    "    MLA_compare.sort_values(by=['Test Accuracy'],\n",
    "                            ascending=False, inplace=True)\n",
    "    print(MLA_compare)"
   ]
  },
  {
   "cell_type": "code",
   "execution_count": null,
   "metadata": {},
   "outputs": [],
   "source": [
    "resample=\"-u\" #\"-u\" -> aplicar undersampling    \"-o\" -> aplicar oversampling    \"\" -> no aplica ningun resampling\n",
    "\n",
    "X,y = buildDataset(resample)\n",
    "X_train, X_test, y_train, y_test = trainTest(X, y)"
   ]
  },
  {
   "cell_type": "code",
   "execution_count": null,
   "metadata": {},
   "outputs": [],
   "source": [
    "crossValidationScore(X_train, y_train)\n",
    "compareMLAs(X_train, X_test, y_train, y_test)"
   ]
  },
  {
   "cell_type": "code",
   "execution_count": null,
   "metadata": {},
   "outputs": [],
   "source": [
    "corrMatrix = X.corr()\n",
    "correlated_features = set()\n",
    "for i in range(len(corrMatrix .columns)):\n",
    "    for j in range(i):\n",
    "        if abs(corrMatrix.iloc[i, j]) > 0.8:\n",
    "            colname = corrMatrix.columns[i]\n",
    "            correlated_features.add(colname)\n",
    "\n",
    "len(correlated_features)\n",
    "X.drop(labels=correlated_features, axis=1, inplace=True)\n",
    "# print(corrMatrix)\n",
    "# f, ax = plt.subplots(figsize =(20, 18))\n",
    "# sns.heatmap(corrMatrix, ax = ax, cmap =\"YlGnBu\", linewidths = 0.1)\n",
    "X_train, X_test, y_train, y_test = trainTest(X, y)"
   ]
  },
  {
   "cell_type": "code",
   "execution_count": null,
   "metadata": {},
   "outputs": [],
   "source": [
    "crossValidationScore(X_train, y_train)\n",
    "compareMLAs(X_train, X_test, y_train, y_test)"
   ]
  },
  {
   "cell_type": "code",
   "execution_count": null,
   "metadata": {},
   "outputs": [],
   "source": [
    "sel = VarianceThreshold(threshold=(0.1))\n",
    "X = sel.fit_transform(X)\n",
    "# print(X)\n",
    "X_train, X_test, y_train, y_test = trainTest(X, y)"
   ]
  },
  {
   "cell_type": "code",
   "execution_count": null,
   "metadata": {},
   "outputs": [],
   "source": [
    "crossValidationScore(X_train, y_train)\n",
    "compareMLAs(X_train, X_test, y_train, y_test)"
   ]
  },
  {
   "cell_type": "code",
   "execution_count": 48,
   "metadata": {},
   "outputs": [
    {
     "name": "stdout",
     "output_type": "stream",
     "text": [
      "['Name', 'Malware', 'e_magic', 'e_cblp', 'e_cp', 'e_crlc', 'e_cparhdr', 'e_minalloc', 'e_maxalloc', 'e_ss', 'e_sp', 'e_csum', 'e_ip', 'e_cs', 'e_lfarlc', 'e_ovno', 'PointerToSymbolTable', 'NumberOfSymbols', 'LoaderFlags', 'NumberOfRvaAndSizes', 'SuspiciousNameSection', 'SectionMaxEntropy', 'SectionMaxRawsize', 'SectionMaxVirtualsize', 'SectionMinPhysical', 'SectionMinVirtual', 'SectionMinPointerData', 'SectionMainChar']\n",
      "['Name', 'Malware', 'e_magic', 'SectionMaxEntropy', 'SectionMaxRawsize', 'SectionMaxVirtualsize', 'SectionMinPhysical', 'SectionMinVirtual', 'SectionMinPointerData', 'SectionMainChar']\n",
      "28\n"
     ]
    }
   ],
   "source": [
    "drop = getColumnsZeroStd()"
   ]
  },
  {
   "cell_type": "code",
   "execution_count": null,
   "metadata": {},
   "outputs": [],
   "source": [
    "resample=\"-u\" #\"-u\" -> aplicar undersampling    \"-o\" -> aplicar oversampling    \"\" -> no aplica ningun resampling\n",
    "\n",
    "X,y = buildDataset(resample, drop)\n",
    "X_train, X_test, y_train, y_test = trainTest(X, y)"
   ]
  },
  {
   "cell_type": "code",
   "execution_count": null,
   "metadata": {},
   "outputs": [],
   "source": [
    "corrMatrix = X.corr()\n",
    "correlated_features = set()\n",
    "for i in range(len(corrMatrix .columns)):\n",
    "    for j in range(i):\n",
    "        if abs(corrMatrix.iloc[i, j]) > 0.8:\n",
    "            colname = corrMatrix.columns[i]\n",
    "            correlated_features.add(colname)\n",
    "\n",
    "len(correlated_features)\n",
    "X.drop(labels=correlated_features, axis=1, inplace=True)\n",
    "# print(corrMatrix)\n",
    "# f, ax = plt.subplots(figsize =(20, 18))\n",
    "# sns.heatmap(corrMatrix, ax = ax, cmap =\"YlGnBu\", linewidths = 0.1)\n",
    "\n",
    "X_train, X_test, y_train, y_test = trainTest(X, y)"
   ]
  },
  {
   "cell_type": "code",
   "execution_count": null,
   "metadata": {},
   "outputs": [],
   "source": [
    "crossValidationScore(X_train, y_train)\n",
    "compareMLAs(X_train, X_test, y_train, y_test)"
   ]
  }
 ],
 "metadata": {
  "kernelspec": {
   "display_name": "Python 3.10.2 64-bit",
   "language": "python",
   "name": "python3"
  },
  "language_info": {
   "codemirror_mode": {
    "name": "ipython",
    "version": 3
   },
   "file_extension": ".py",
   "mimetype": "text/x-python",
   "name": "python",
   "nbconvert_exporter": "python",
   "pygments_lexer": "ipython3",
   "version": "3.10.2"
  },
  "orig_nbformat": 4,
  "vscode": {
   "interpreter": {
    "hash": "3e6eaf00392b0cb8b5a646d3515e821c15d6342d64f11192f7e7dc8c1b273a06"
   }
  }
 },
 "nbformat": 4,
 "nbformat_minor": 2
}
